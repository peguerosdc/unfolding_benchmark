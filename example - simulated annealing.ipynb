{
 "cells": [
  {
   "cell_type": "markdown",
   "id": "virtual-coating",
   "metadata": {},
   "source": [
    "# Annealing Unfolder\n",
    "\n",
    "Based on the SVD example taken from [ROOT's TSVDUnfoldExample](https://root.cern/doc/master/TSVDUnfoldExample_8C.html)."
   ]
  },
  {
   "cell_type": "code",
   "execution_count": 1,
   "id": "periodic-scope",
   "metadata": {},
   "outputs": [
    {
     "name": "stdout",
     "output_type": "stream",
     "text": [
      "Welcome to JupyROOT 6.23/01\n"
     ]
    }
   ],
   "source": [
    "# numpy imports and settings\n",
    "import numpy as np\n",
    "np.set_printoptions(precision=3, suppress=True, linewidth=500)\n",
    "# ROOT imports\n",
    "import ROOT\n",
    "import root_numpy\n",
    "# plotting imports\n",
    "import pylab as plt\n",
    "%matplotlib inline"
   ]
  },
  {
   "cell_type": "markdown",
   "id": "noticed-agent",
   "metadata": {},
   "source": [
    "Create functions to simulate detector"
   ]
  },
  {
   "cell_type": "code",
   "execution_count": 2,
   "id": "blond-enclosure",
   "metadata": {},
   "outputs": [],
   "source": [
    "def reconstruct(xt, R):\n",
    "    cutdummy = -99999.0\n",
    "    xeff = 0.3 + (1.0 - 0.3) / 20.0 * (xt + 10.0)\n",
    "    x = R.Rndm()\n",
    "    if x > xeff:\n",
    "        return cutdummy\n",
    "    return xt + R.Gaus(-2.5, 0.2)\n",
    "\n",
    "# random utils\n",
    "R = ROOT.TRandom3()\n",
    "cutdummy = -99999.0"
   ]
  },
  {
   "cell_type": "markdown",
   "id": "monetary-banking",
   "metadata": {},
   "source": [
    "## Initialization\n",
    "Generate data"
   ]
  },
  {
   "cell_type": "code",
   "execution_count": 3,
   "id": "excessive-membership",
   "metadata": {},
   "outputs": [],
   "source": [
    "# toy generation\n",
    "nbins = 40\n",
    "xini = ROOT.TH1D(\"xini\", \"MC truth\", nbins, -10, 10)\n",
    "bini = ROOT.TH1D(\"bini\", \"MC reco\", nbins, -10, 10)\n",
    "Adet = ROOT.TH2D(\"Adet\", \"detector response\", nbins, -10.0, 10.0, nbins, -10.0, 10.0)\n",
    "\n",
    "# Data\n",
    "data = ROOT.TH1D(\"data\", \"data\", nbins, -10.0, 10.0)\n",
    "# Data \"truth\" distribution to test the unfolding\n",
    "datatrue = ROOT.TH1D(\"datatrue\", \"data truth\", nbins, -10.0, 10.0)\n",
    "# Statistical covariance matrix\n",
    "statcov = ROOT.TH2D(\n",
    "    \"statcov\", \"covariance matrix\", nbins, -10.0, 10.0, nbins, -10.0, 10.0\n",
    ")"
   ]
  },
  {
   "cell_type": "markdown",
   "id": "homeless-sally",
   "metadata": {},
   "source": [
    "Create the real signal `bini` as a BreitWigner"
   ]
  },
  {
   "cell_type": "code",
   "execution_count": 4,
   "id": "nasty-closure",
   "metadata": {},
   "outputs": [],
   "source": [
    "# Fill the MC using a Breit-Wigner, mean 0.3 and width 2.5.\n",
    "for i in range(100000):\n",
    "    xt = R.BreitWigner(0.3, 2.5)\n",
    "    xini.Fill(xt)\n",
    "    x = reconstruct(xt, R)\n",
    "    if x != cutdummy:\n",
    "        Adet.Fill(x, xt)\n",
    "        bini.Fill(x)"
   ]
  },
  {
   "cell_type": "markdown",
   "id": "comfortable-novel",
   "metadata": {},
   "source": [
    "Create the signal `data` with a Gaussian (this is what is measured in the experiment)"
   ]
  },
  {
   "cell_type": "code",
   "execution_count": 5,
   "id": "median-convertible",
   "metadata": {},
   "outputs": [],
   "source": [
    "# Fill the \"data\" with a Gaussian, mean 0 and width 2.\n",
    "for i in range(10000):\n",
    "    xt = R.Gaus(0.0, 2.0)\n",
    "    datatrue.Fill(xt)\n",
    "    x = reconstruct(xt, R)\n",
    "    if x != cutdummy:\n",
    "        data.Fill(x)"
   ]
  },
  {
   "cell_type": "code",
   "execution_count": 6,
   "id": "exact-american",
   "metadata": {},
   "outputs": [],
   "source": [
    "# Fill the data covariance matrix\n",
    "for i in range(1, data.GetNbinsX()):\n",
    "    statcov.SetBinContent(i, i, data.GetBinError(i) * data.GetBinError(i))"
   ]
  },
  {
   "cell_type": "code",
   "execution_count": 7,
   "id": "reported-arizona",
   "metadata": {
    "scrolled": false
   },
   "outputs": [],
   "source": [
    "# map to numpy arrays\n",
    "xinipy, xinipy_edges = root_numpy.hist2array(xini, return_edges=True)\n",
    "binipy, binipy_edges = root_numpy.hist2array(bini, return_edges=True)\n",
    "Adetpy, Adetpy_edges = root_numpy.hist2array(Adet, return_edges=True)\n",
    "\n",
    "# Data\n",
    "datapy, datapy_edges = root_numpy.hist2array(data, return_edges=True)\n",
    "# Data \"truth\" distribution to test the unfolding\n",
    "datatruepy, datatruepy_edges = root_numpy.hist2array(datatrue, return_edges=True)\n",
    "# Statistical covariance matrix\n",
    "statcovpy, statcovpy_edges = root_numpy.hist2array(statcov, return_edges=True)"
   ]
  },
  {
   "cell_type": "code",
   "execution_count": 8,
   "id": "sonic-membership",
   "metadata": {},
   "outputs": [
    {
     "data": {
      "text/plain": [
       "<matplotlib.legend.Legend at 0x7f020bdef640>"
      ]
     },
     "execution_count": 8,
     "metadata": {},
     "output_type": "execute_result"
    },
    {
     "data": {
      "image/png": "[encoded data removed]",
      "text/plain": [
       "<Figure size 1080x504 with 1 Axes>"
      ]
     },
     "metadata": {
      "needs_background": "light"
     },
     "output_type": "display_data"
    }
   ],
   "source": [
    "axis = xinipy_edges[0][:-1]\n",
    "plt.figure(figsize=(15, 7))\n",
    "\n",
    "# plot x_ini\n",
    "plt.step(axis, xinipy, fillstyle=\"bottom\", label=\"$x_{ini}$\")\n",
    "plt.fill_between(axis, xinipy, step=\"pre\", alpha=0.4)\n",
    "# plot b_ini\n",
    "plt.step(axis, binipy, fillstyle=\"bottom\", label=\"$b_{ini}$\")\n",
    "plt.fill_between(axis, binipy, step=\"pre\", alpha=0.4)\n",
    "\n",
    "plt.xlabel(\"x\")\n",
    "plt.ylabel(\"entries\")\n",
    "plt.legend(prop={'size': 15})"
   ]
  },
  {
   "cell_type": "code",
   "execution_count": 9,
   "id": "under-booth",
   "metadata": {},
   "outputs": [
    {
     "data": {
      "text/plain": [
       "<matplotlib.legend.Legend at 0x7f020bacf370>"
      ]
     },
     "execution_count": 9,
     "metadata": {},
     "output_type": "execute_result"
    },
    {
     "data": {
      "image/png": "[encoded data removed]",
      "text/plain": [
       "<Figure size 1080x504 with 1 Axes>"
      ]
     },
     "metadata": {
      "needs_background": "light"
     },
     "output_type": "display_data"
    }
   ],
   "source": [
    "axis = xinipy_edges[0][:-1]\n",
    "plt.figure(figsize=(15, 7))\n",
    "\n",
    "# plot truth distribution\n",
    "plt.step(axis, datatruepy, fillstyle=\"bottom\", label=\"truthMC\")\n",
    "plt.fill_between(axis, datatruepy, step=\"pre\", alpha=0.4)\n",
    "# plot what the detector sees\n",
    "plt.step(axis, datapy, fillstyle=\"bottom\", label=\"data\")\n",
    "plt.fill_between(axis, datapy, step=\"pre\", alpha=0.4)\n",
    "\n",
    "plt.xlabel(\"x\")\n",
    "plt.ylabel(\"entries\")\n",
    "plt.legend(prop={'size': 15})"
   ]
  },
  {
   "cell_type": "markdown",
   "id": "moral-hunter",
   "metadata": {},
   "source": [
    "## Unfold"
   ]
  },
  {
   "cell_type": "code",
   "execution_count": 10,
   "id": "limited-mystery",
   "metadata": {
    "scrolled": true,
    "tags": [
     "outputPrepend"
    ]
   },
   "outputs": [
    {
     "name": "stdout",
     "output_type": "stream",
     "text": [
      "Encoding: [  168.   221.   234.   235.   302.   334.   390.   447.   505.   606.   760.   878.  1042.  1373.  1866.  2604.  3435.  4999.  7560. 10486. 12696. 11207.  8144.  5522.  3821.  2597.  1971.  1474.  1204.   876.   744.   653.   540.   430.   419.   328.   334.   255.   218.   206.]\n",
      "Beta = [  0.      0.      0.      0.      0.      0.      0.      0.      0.      0.      0.      0.      0.      0.      0.      0.      0.      0.      0.      0.      0.      0.      0.      0.      0.      0.      0.      0.      0.      0.      0.      0.      0.      0.      0.      0.      0.      0.      0.      0.      0.      0.      0.      0.      0.      0.      0.      0.      0.      0.      0.      0.      0.      0.      0.      0.      0.      0.      0.      0.      0.      0.\n",
      "   0.      0.      0.      0.      0.      0.      0.      0.      0.      0.      0.      0.      0.      0.      0.      0.      0.      0.      0.      0.      0.      0.      0.      0.      0.      0.      0.      0.      0.      0.      0.      0.      0.      0.      0.      0.      0.      0.      0.      0.      0.      0.      0.      0.      0.      0.      0.      0.      0.      0.      0.      0.      0.      0.      0.      0.      0.      0.      0.      0.      0.      0.\n",
      "   0.      0.      0.      0.      0.      0.      0.      0.      0.      0.      0.      0.      0.      0.      0.      0.      0.      0.      0.      0.      0.      0.      0.      0.      0.      0.      0.      0.      0.      0.      0.      0.    103.     51.5    25.75   12.875]\n",
      "Encoding x[39]=206.0 now as 103.0\n",
      "Bit 156 to encode x_d=103.0\n",
      "beta 103.0\n",
      "more_than = 1\n",
      "equal_to = True\n",
      "Beta = [  0.      0.      0.      0.      0.      0.      0.      0.      0.      0.      0.      0.      0.      0.      0.      0.      0.      0.      0.      0.      0.      0.      0.      0.      0.      0.      0.      0.      0.      0.      0.      0.      0.      0.      0.      0.      0.      0.      0.      0.      0.      0.      0.      0.      0.      0.      0.      0.      0.      0.      0.      0.      0.      0.      0.      0.      0.      0.      0.      0.      0.      0.\n",
      "   0.      0.      0.      0.      0.      0.      0.      0.      0.      0.      0.      0.      0.      0.      0.      0.      0.      0.      0.      0.      0.      0.      0.      0.      0.      0.      0.      0.      0.      0.      0.      0.      0.      0.      0.      0.      0.      0.      0.      0.      0.      0.      0.      0.      0.      0.      0.      0.      0.      0.      0.      0.      0.      0.      0.      0.      0.      0.      0.      0.      0.      0.\n",
      "   0.      0.      0.      0.      0.      0.      0.      0.      0.      0.      0.      0.      0.      0.      0.      0.      0.      0.      0.      0.      0.      0.      0.      0.      0.      0.      0.      0.    109.     54.5    27.25   13.625   0.      0.      0.      0.   ]\n",
      "Encoding x[38]=218.0 now as 109.0\n",
      "Bit 152 to encode x_d=109.0\n",
      "beta 109.0\n",
      "more_than = 1\n",
      "equal_to = True\n",
      "Beta = [  0.      0.      0.      0.      0.      0.      0.      0.      0.      0.      0.      0.      0.      0.      0.      0.      0.      0.      0.      0.      0.      0.      0.      0.      0.      0.      0.      0.      0.      0.      0.      0.      0.      0.      0.      0.      0.      0.      0.      0.      0.      0.      0.      0.      0.      0.      0.      0.      0.      0.      0.      0.      0.      0.      0.      0.      0.      0.      0.      0.      0.      0.\n",
      "   0.      0.      0.      0.      0.      0.      0.      0.      0.      0.      0.      0.      0.      0.      0.      0.      0.      0.      0.      0.      0.      0.      0.      0.      0.      0.      0.      0.      0.      0.      0.      0.      0.      0.      0.      0.      0.      0.      0.      0.      0.      0.      0.      0.      0.      0.      0.      0.      0.      0.      0.      0.      0.      0.      0.      0.      0.      0.      0.      0.      0.      0.\n",
      "   0.      0.      0.      0.      0.      0.      0.      0.      0.      0.      0.      0.      0.      0.      0.      0.      0.      0.      0.      0.      0.      0.      0.      0.    127.5    63.75   31.875  15.938   0.      0.      0.      0.      0.      0.      0.      0.   ]\n",
      "Encoding x[37]=255.0 now as 127.5\n",
      "Bit 148 to encode x_d=127.5\n",
      "beta 127.5\n",
      "more_than = 1\n",
      "equal_to = True\n",
      "Beta = [  0.      0.      0.      0.      0.      0.      0.      0.      0.      0.      0.      0.      0.      0.      0.      0.      0.      0.      0.      0.      0.      0.      0.      0.      0.      0.      0.      0.      0.      0.      0.      0.      0.      0.      0.      0.      0.      0.      0.      0.      0.      0.      0.      0.      0.      0.      0.      0.      0.      0.      0.      0.      0.      0.      0.      0.      0.      0.      0.      0.      0.      0.\n",
      "   0.      0.      0.      0.      0.      0.      0.      0.      0.      0.      0.      0.      0.      0.      0.      0.      0.      0.      0.      0.      0.      0.      0.      0.      0.      0.      0.      0.      0.      0.      0.      0.      0.      0.      0.      0.      0.      0.      0.      0.      0.      0.      0.      0.      0.      0.      0.      0.      0.      0.      0.      0.      0.      0.      0.      0.      0.      0.      0.      0.      0.      0.\n",
      "   0.      0.      0.      0.      0.      0.      0.      0.      0.      0.      0.      0.      0.      0.      0.      0.      0.      0.      0.      0.    167.     83.5    41.75   20.875   0.      0.      0.      0.      0.      0.      0.      0.      0.      0.      0.      0.   ]\n",
      "Encoding x[36]=334.0 now as 167.0\n",
      "Bit 144 to encode x_d=167.0\n",
      "beta 167.0\n",
      "more_than = 1\n",
      "equal_to = True\n",
      "Beta = [  0.    0.    0.    0.    0.    0.    0.    0.    0.    0.    0.    0.    0.    0.    0.    0.    0.    0.    0.    0.    0.    0.    0.    0.    0.    0.    0.    0.    0.    0.    0.    0.    0.    0.    0.    0.    0.    0.    0.    0.    0.    0.    0.    0.    0.    0.    0.    0.    0.    0.    0.    0.    0.    0.    0.    0.    0.    0.    0.    0.    0.    0.    0.    0.    0.    0.    0.    0.    0.    0.    0.    0.    0.    0.    0.    0.    0.    0.    0.    0.    0.    0.    0.\n",
      "   0.    0.    0.    0.    0.    0.    0.    0.    0.    0.    0.    0.    0.    0.    0.    0.    0.    0.    0.    0.    0.    0.    0.    0.    0.    0.    0.    0.    0.    0.    0.    0.    0.    0.    0.    0.    0.    0.    0.    0.    0.    0.    0.    0.    0.    0.    0.    0.    0.    0.    0.    0.    0.    0.    0.    0.    0.  164.   82.   41.   20.5   0.    0.    0.    0.    0.    0.    0.    0.    0.    0.    0.    0.    0.    0.    0.    0. ]\n",
      "Encoding x[35]=328.0 now as 164.0\n",
      "Bit 140 to encode x_d=164.0\n",
      "beta 164.0\n",
      "more_than = 1\n",
      "equal_to = True\n",
      "Beta = [  0.      0.      0.      0.      0.      0.      0.      0.      0.      0.      0.      0.      0.      0.      0.      0.      0.      0.      0.      0.      0.      0.      0.      0.      0.      0.      0.      0.      0.      0.      0.      0.      0.      0.      0.      0.      0.      0.      0.      0.      0.      0.      0.      0.      0.      0.      0.      0.      0.      0.      0.      0.      0.      0.      0.      0.      0.      0.      0.      0.      0.      0.\n",
      "   0.      0.      0.      0.      0.      0.      0.      0.      0.      0.      0.      0.      0.      0.      0.      0.      0.      0.      0.      0.      0.      0.      0.      0.      0.      0.      0.      0.      0.      0.      0.      0.      0.      0.      0.      0.      0.      0.      0.      0.      0.      0.      0.      0.      0.      0.      0.      0.      0.      0.      0.      0.      0.      0.      0.      0.      0.      0.      0.      0.      0.      0.\n",
      "   0.      0.      0.      0.      0.      0.      0.      0.      0.      0.      0.      0.    209.5   104.75   52.375  26.188   0.      0.      0.      0.      0.      0.      0.      0.      0.      0.      0.      0.      0.      0.      0.      0.      0.      0.      0.      0.   ]\n",
      "Encoding x[34]=419.0 now as 209.5\n",
      "Bit 136 to encode x_d=209.5\n",
      "beta 209.5\n",
      "more_than = 1\n",
      "equal_to = True\n",
      "Beta = [  0.      0.      0.      0.      0.      0.      0.      0.      0.      0.      0.      0.      0.      0.      0.      0.      0.      0.      0.      0.      0.      0.      0.      0.      0.      0.      0.      0.      0.      0.      0.      0.      0.      0.      0.      0.      0.      0.      0.      0.      0.      0.      0.      0.      0.      0.      0.      0.      0.      0.      0.      0.      0.      0.      0.      0.      0.      0.      0.      0.      0.      0.\n",
      "   0.      0.      0.      0.      0.      0.      0.      0.      0.      0.      0.      0.      0.      0.      0.      0.      0.      0.      0.      0.      0.      0.      0.      0.      0.      0.      0.      0.      0.      0.      0.      0.      0.      0.      0.      0.      0.      0.      0.      0.      0.      0.      0.      0.      0.      0.      0.      0.      0.      0.      0.      0.      0.      0.      0.      0.      0.      0.      0.      0.      0.      0.\n",
      "   0.      0.      0.      0.      0.      0.      0.      0.    215.    107.5    53.75   26.875   0.      0.      0.      0.      0.      0.      0.      0.      0.      0.      0.      0.      0.      0.      0.      0.      0.      0.      0.      0.      0.      0.      0.      0.   ]\n",
      "Encoding x[33]=430.0 now as 215.0\n",
      "Bit 132 to encode x_d=215.0\n",
      "beta 215.0\n",
      "more_than = 1\n",
      "equal_to = True\n",
      "Beta = [  0.     0.     0.     0.     0.     0.     0.     0.     0.     0.     0.     0.     0.     0.     0.     0.     0.     0.     0.     0.     0.     0.     0.     0.     0.     0.     0.     0.     0.     0.     0.     0.     0.     0.     0.     0.     0.     0.     0.     0.     0.     0.     0.     0.     0.     0.     0.     0.     0.     0.     0.     0.     0.     0.     0.     0.     0.     0.     0.     0.     0.     0.     0.     0.     0.     0.     0.     0.     0.     0.     0.\n",
      "   0.     0.     0.     0.     0.     0.     0.     0.     0.     0.     0.     0.     0.     0.     0.     0.     0.     0.     0.     0.     0.     0.     0.     0.     0.     0.     0.     0.     0.     0.     0.     0.     0.     0.     0.     0.     0.     0.     0.     0.     0.     0.     0.     0.     0.     0.     0.     0.     0.     0.     0.     0.     0.     0.     0.     0.     0.   270.   135.    67.5   33.75   0.     0.     0.     0.     0.     0.     0.     0.     0.     0.\n",
      "   0.     0.     0.     0.     0.     0.     0.     0.     0.     0.     0.     0.     0.     0.     0.     0.     0.     0.  ]\n",
      "Encoding x[32]=540.0 now as 270.0\n",
      "Bit 128 to encode x_d=270.0\n",
      "beta 270.0\n",
      "more_than = 1\n",
      "equal_to = True\n",
      "Beta = [  0.      0.      0.      0.      0.      0.      0.      0.      0.      0.      0.      0.      0.      0.      0.      0.      0.      0.      0.      0.      0.      0.      0.      0.      0.      0.      0.      0.      0.      0.      0.      0.      0.      0.      0.      0.      0.      0.      0.      0.      0.      0.      0.      0.      0.      0.      0.      0.      0.      0.      0.      0.      0.      0.      0.      0.      0.      0.      0.      0.      0.      0.\n",
      "   0.      0.      0.      0.      0.      0.      0.      0.      0.      0.      0.      0.      0.      0.      0.      0.      0.      0.      0.      0.      0.      0.      0.      0.      0.      0.      0.      0.      0.      0.      0.      0.      0.      0.      0.      0.      0.      0.      0.      0.      0.      0.      0.      0.      0.      0.      0.      0.      0.      0.      0.      0.      0.      0.      0.      0.      0.      0.      0.      0.      0.      0.\n",
      " 326.5   163.25   81.625  40.812   0.      0.      0.      0.      0.      0.      0.      0.      0.      0.      0.      0.      0.      0.      0.      0.      0.      0.      0.      0.      0.      0.      0.      0.      0.      0.      0.      0.      0.      0.      0.      0.   ]\n",
      "Encoding x[31]=653.0 now as 326.5\n",
      "Bit 124 to encode x_d=326.5\n",
      "beta 326.5\n",
      "more_than = 1\n",
      "equal_to = True\n",
      "Beta = [  0.    0.    0.    0.    0.    0.    0.    0.    0.    0.    0.    0.    0.    0.    0.    0.    0.    0.    0.    0.    0.    0.    0.    0.    0.    0.    0.    0.    0.    0.    0.    0.    0.    0.    0.    0.    0.    0.    0.    0.    0.    0.    0.    0.    0.    0.    0.    0.    0.    0.    0.    0.    0.    0.    0.    0.    0.    0.    0.    0.    0.    0.    0.    0.    0.    0.    0.    0.    0.    0.    0.    0.    0.    0.    0.    0.    0.    0.    0.    0.    0.    0.    0.\n",
      "   0.    0.    0.    0.    0.    0.    0.    0.    0.    0.    0.    0.    0.    0.    0.    0.    0.    0.    0.    0.    0.    0.    0.    0.    0.    0.    0.    0.    0.    0.    0.    0.    0.    0.    0.    0.    0.  372.  186.   93.   46.5   0.    0.    0.    0.    0.    0.    0.    0.    0.    0.    0.    0.    0.    0.    0.    0.    0.    0.    0.    0.    0.    0.    0.    0.    0.    0.    0.    0.    0.    0.    0.    0.    0.    0.    0.    0. ]\n",
      "Encoding x[30]=744.0 now as 372.0\n",
      "Bit 120 to encode x_d=372.0\n",
      "beta 372.0\n",
      "more_than = 1\n",
      "equal_to = True\n",
      "Beta = [  0.     0.     0.     0.     0.     0.     0.     0.     0.     0.     0.     0.     0.     0.     0.     0.     0.     0.     0.     0.     0.     0.     0.     0.     0.     0.     0.     0.     0.     0.     0.     0.     0.     0.     0.     0.     0.     0.     0.     0.     0.     0.     0.     0.     0.     0.     0.     0.     0.     0.     0.     0.     0.     0.     0.     0.     0.     0.     0.     0.     0.     0.     0.     0.     0.     0.     0.     0.     0.     0.     0.\n",
      "   0.     0.     0.     0.     0.     0.     0.     0.     0.     0.     0.     0.     0.     0.     0.     0.     0.     0.     0.     0.     0.     0.     0.     0.     0.     0.     0.     0.     0.     0.     0.     0.     0.     0.     0.     0.     0.     0.     0.     0.     0.     0.     0.     0.     0.   438.   219.   109.5   54.75   0.     0.     0.     0.     0.     0.     0.     0.     0.     0.     0.     0.     0.     0.     0.     0.     0.     0.     0.     0.     0.     0.\n",
      "   0.     0.     0.     0.     0.     0.     0.     0.     0.     0.     0.     0.     0.     0.     0.     0.     0.     0.  ]\n",
      "Encoding x[29]=876.0 now as 438.0\n",
      "Bit 116 to encode x_d=438.0\n",
      "beta 438.0\n",
      "more_than = 1\n",
      "equal_to = True\n",
      "Beta = [  0.     0.     0.     0.     0.     0.     0.     0.     0.     0.     0.     0.     0.     0.     0.     0.     0.     0.     0.     0.     0.     0.     0.     0.     0.     0.     0.     0.     0.     0.     0.     0.     0.     0.     0.     0.     0.     0.     0.     0.     0.     0.     0.     0.     0.     0.     0.     0.     0.     0.     0.     0.     0.     0.     0.     0.     0.     0.     0.     0.     0.     0.     0.     0.     0.     0.     0.     0.     0.     0.     0.\n",
      "   0.     0.     0.     0.     0.     0.     0.     0.     0.     0.     0.     0.     0.     0.     0.     0.     0.     0.     0.     0.     0.     0.     0.     0.     0.     0.     0.     0.     0.     0.     0.     0.     0.     0.     0.     0.     0.     0.     0.     0.     0.   602.   301.   150.5   75.25   0.     0.     0.     0.     0.     0.     0.     0.     0.     0.     0.     0.     0.     0.     0.     0.     0.     0.     0.     0.     0.     0.     0.     0.     0.     0.\n",
      "   0.     0.     0.     0.     0.     0.     0.     0.     0.     0.     0.     0.     0.     0.     0.     0.     0.     0.  ]\n",
      "Encoding x[28]=1204.0 now as 602.0\n",
      "Bit 112 to encode x_d=602.0\n",
      "beta 602.0\n",
      "more_than = 1\n",
      "equal_to = True\n",
      "Beta = [  0.      0.      0.      0.      0.      0.      0.      0.      0.      0.      0.      0.      0.      0.      0.      0.      0.      0.      0.      0.      0.      0.      0.      0.      0.      0.      0.      0.      0.      0.      0.      0.      0.      0.      0.      0.      0.      0.      0.      0.      0.      0.      0.      0.      0.      0.      0.      0.      0.      0.      0.      0.      0.      0.      0.      0.      0.      0.      0.      0.      0.      0.\n",
      "   0.      0.      0.      0.      0.      0.      0.      0.      0.      0.      0.      0.      0.      0.      0.      0.      0.      0.      0.      0.      0.      0.      0.      0.      0.      0.      0.      0.      0.      0.      0.      0.      0.      0.      0.      0.      0.      0.      0.      0.      0.      0.      0.      0.      0.      0.    737.    368.5   184.25   92.125   0.      0.      0.      0.      0.      0.      0.      0.      0.      0.      0.      0.\n",
      "   0.      0.      0.      0.      0.      0.      0.      0.      0.      0.      0.      0.      0.      0.      0.      0.      0.      0.      0.      0.      0.      0.      0.      0.      0.      0.      0.      0.      0.      0.      0.      0.      0.      0.      0.      0.   ]\n",
      "Encoding x[27]=1474.0 now as 737.0\n",
      "Bit 108 to encode x_d=737.0\n",
      "beta 737.0\n",
      "more_than = 1\n",
      "equal_to = True\n",
      "Beta = [  0.      0.      0.      0.      0.      0.      0.      0.      0.      0.      0.      0.      0.      0.      0.      0.      0.      0.      0.      0.      0.      0.      0.      0.      0.      0.      0.      0.      0.      0.      0.      0.      0.      0.      0.      0.      0.      0.      0.      0.      0.      0.      0.      0.      0.      0.      0.      0.      0.      0.      0.      0.      0.      0.      0.      0.      0.      0.      0.      0.      0.      0.\n",
      "   0.      0.      0.      0.      0.      0.      0.      0.      0.      0.      0.      0.      0.      0.      0.      0.      0.      0.      0.      0.      0.      0.      0.      0.      0.      0.      0.      0.      0.      0.      0.      0.      0.      0.      0.      0.      0.      0.      0.      0.      0.      0.    985.5   492.75  246.375 123.188   0.      0.      0.      0.      0.      0.      0.      0.      0.      0.      0.      0.      0.      0.      0.      0.\n",
      "   0.      0.      0.      0.      0.      0.      0.      0.      0.      0.      0.      0.      0.      0.      0.      0.      0.      0.      0.      0.      0.      0.      0.      0.      0.      0.      0.      0.      0.      0.      0.      0.      0.      0.      0.      0.   ]\n",
      "Encoding x[26]=1971.0 now as 985.5\n",
      "Bit 104 to encode x_d=985.5\n",
      "beta 985.5\n",
      "more_than = 1\n",
      "equal_to = True\n",
      "Beta = [   0.       0.       0.       0.       0.       0.       0.       0.       0.       0.       0.       0.       0.       0.       0.       0.       0.       0.       0.       0.       0.       0.       0.       0.       0.       0.       0.       0.       0.       0.       0.       0.       0.       0.       0.       0.       0.       0.       0.       0.       0.       0.       0.       0.       0.       0.       0.       0.       0.       0.       0.       0.       0.       0.       0.\n",
      "    0.       0.       0.       0.       0.       0.       0.       0.       0.       0.       0.       0.       0.       0.       0.       0.       0.       0.       0.       0.       0.       0.       0.       0.       0.       0.       0.       0.       0.       0.       0.       0.       0.       0.       0.       0.       0.       0.       0.       0.       0.       0.       0.       0.       0.    1298.5    649.25   324.625  162.312    0.       0.       0.       0.       0.       0.\n",
      "    0.       0.       0.       0.       0.       0.       0.       0.       0.       0.       0.       0.       0.       0.       0.       0.       0.       0.       0.       0.       0.       0.       0.       0.       0.       0.       0.       0.       0.       0.       0.       0.       0.       0.       0.       0.       0.       0.       0.       0.       0.       0.       0.       0.       0.       0.       0.       0.       0.       0.   ]\n",
      "Encoding x[25]=2597.0 now as 1298.5\n",
      "Bit 100 to encode x_d=1298.5\n",
      "beta 1298.5\n",
      "more_than = 1\n",
      "equal_to = True\n",
      "Beta = [   0.       0.       0.       0.       0.       0.       0.       0.       0.       0.       0.       0.       0.       0.       0.       0.       0.       0.       0.       0.       0.       0.       0.       0.       0.       0.       0.       0.       0.       0.       0.       0.       0.       0.       0.       0.       0.       0.       0.       0.       0.       0.       0.       0.       0.       0.       0.       0.       0.       0.       0.       0.       0.       0.       0.\n",
      "    0.       0.       0.       0.       0.       0.       0.       0.       0.       0.       0.       0.       0.       0.       0.       0.       0.       0.       0.       0.       0.       0.       0.       0.       0.       0.       0.       0.       0.       0.       0.       0.       0.       0.       0.       0.       0.       0.       0.       0.       0.    1910.5    955.25   477.625  238.812    0.       0.       0.       0.       0.       0.       0.       0.       0.       0.\n",
      "    0.       0.       0.       0.       0.       0.       0.       0.       0.       0.       0.       0.       0.       0.       0.       0.       0.       0.       0.       0.       0.       0.       0.       0.       0.       0.       0.       0.       0.       0.       0.       0.       0.       0.       0.       0.       0.       0.       0.       0.       0.       0.       0.       0.       0.       0.       0.       0.       0.       0.   ]\n",
      "Encoding x[24]=3821.0 now as 1910.5\n",
      "Bit 96 to encode x_d=1910.5\n",
      "beta 1910.5\n",
      "more_than = 1\n",
      "equal_to = True\n",
      "Beta = [   0.       0.       0.       0.       0.       0.       0.       0.       0.       0.       0.       0.       0.       0.       0.       0.       0.       0.       0.       0.       0.       0.       0.       0.       0.       0.       0.       0.       0.       0.       0.       0.       0.       0.       0.       0.       0.       0.       0.       0.       0.       0.       0.       0.       0.       0.       0.       0.       0.       0.       0.       0.       0.       0.       0.\n",
      "    0.       0.       0.       0.       0.       0.       0.       0.       0.       0.       0.       0.       0.       0.       0.       0.       0.       0.       0.       0.       0.       0.       0.       0.       0.       0.       0.       0.       0.       0.       0.       0.       0.       0.       0.       0.       0.    2761.    1380.5    690.25   345.125    0.       0.       0.       0.       0.       0.       0.       0.       0.       0.       0.       0.       0.       0.\n",
      "    0.       0.       0.       0.       0.       0.       0.       0.       0.       0.       0.       0.       0.       0.       0.       0.       0.       0.       0.       0.       0.       0.       0.       0.       0.       0.       0.       0.       0.       0.       0.       0.       0.       0.       0.       0.       0.       0.       0.       0.       0.       0.       0.       0.       0.       0.       0.       0.       0.       0.   ]\n",
      "Encoding x[23]=5522.0 now as 2761.0\n",
      "Bit 92 to encode x_d=2761.0\n",
      "beta 2761.0\n",
      "more_than = 1\n",
      "equal_to = True\n",
      "Beta = [   0.    0.    0.    0.    0.    0.    0.    0.    0.    0.    0.    0.    0.    0.    0.    0.    0.    0.    0.    0.    0.    0.    0.    0.    0.    0.    0.    0.    0.    0.    0.    0.    0.    0.    0.    0.    0.    0.    0.    0.    0.    0.    0.    0.    0.    0.    0.    0.    0.    0.    0.    0.    0.    0.    0.    0.    0.    0.    0.    0.    0.    0.    0.    0.    0.    0.    0.    0.    0.    0.    0.    0.    0.    0.    0.    0.    0.    0.    0.    0.    0.    0.    0.\n",
      "    0.    0.    0.    0.    0. 4072. 2036. 1018.  509.    0.    0.    0.    0.    0.    0.    0.    0.    0.    0.    0.    0.    0.    0.    0.    0.    0.    0.    0.    0.    0.    0.    0.    0.    0.    0.    0.    0.    0.    0.    0.    0.    0.    0.    0.    0.    0.    0.    0.    0.    0.    0.    0.    0.    0.    0.    0.    0.    0.    0.    0.    0.    0.    0.    0.    0.    0.    0.    0.    0.    0.    0.    0.    0.    0.    0.    0.    0.]\n",
      "Encoding x[22]=8144.0 now as 4072.0\n",
      "Bit 88 to encode x_d=4072.0\n",
      "beta 4072.0\n",
      "more_than = 1\n",
      "equal_to = True\n",
      "Beta = [   0.       0.       0.       0.       0.       0.       0.       0.       0.       0.       0.       0.       0.       0.       0.       0.       0.       0.       0.       0.       0.       0.       0.       0.       0.       0.       0.       0.       0.       0.       0.       0.       0.       0.       0.       0.       0.       0.       0.       0.       0.       0.       0.       0.       0.       0.       0.       0.       0.       0.       0.       0.       0.       0.       0.\n",
      "    0.       0.       0.       0.       0.       0.       0.       0.       0.       0.       0.       0.       0.       0.       0.       0.       0.       0.       0.       0.       0.       0.       0.       0.       0.       0.       0.       0.       0.    5603.5   2801.75  1400.875  700.438    0.       0.       0.       0.       0.       0.       0.       0.       0.       0.       0.       0.       0.       0.       0.       0.       0.       0.       0.       0.       0.       0.\n",
      "    0.       0.       0.       0.       0.       0.       0.       0.       0.       0.       0.       0.       0.       0.       0.       0.       0.       0.       0.       0.       0.       0.       0.       0.       0.       0.       0.       0.       0.       0.       0.       0.       0.       0.       0.       0.       0.       0.       0.       0.       0.       0.       0.       0.       0.       0.       0.       0.       0.       0.   ]\n",
      "Encoding x[21]=11207.0 now as 5603.5\n",
      "Bit 84 to encode x_d=5603.5\n",
      "beta 5603.5\n",
      "more_than = 1\n",
      "equal_to = True\n",
      "Beta = [   0.     0.     0.     0.     0.     0.     0.     0.     0.     0.     0.     0.     0.     0.     0.     0.     0.     0.     0.     0.     0.     0.     0.     0.     0.     0.     0.     0.     0.     0.     0.     0.     0.     0.     0.     0.     0.     0.     0.     0.     0.     0.     0.     0.     0.     0.     0.     0.     0.     0.     0.     0.     0.     0.     0.     0.     0.     0.     0.     0.     0.     0.     0.     0.     0.     0.     0.     0.     0.     0.     0.\n",
      "    0.     0.     0.     0.     0.     0.     0.     0.     0.  6348.  3174.  1587.   793.5    0.     0.     0.     0.     0.     0.     0.     0.     0.     0.     0.     0.     0.     0.     0.     0.     0.     0.     0.     0.     0.     0.     0.     0.     0.     0.     0.     0.     0.     0.     0.     0.     0.     0.     0.     0.     0.     0.     0.     0.     0.     0.     0.     0.     0.     0.     0.     0.     0.     0.     0.     0.     0.     0.     0.     0.     0.     0.\n",
      "    0.     0.     0.     0.     0.     0.     0.     0.     0.     0.     0.     0.     0.     0.     0.     0.     0.     0. ]\n",
      "Encoding x[20]=12696.0 now as 6348.0\n",
      "Bit 80 to encode x_d=6348.0\n",
      "beta 6348.0\n",
      "more_than = 1\n",
      "equal_to = True\n",
      "Beta = [   0.       0.       0.       0.       0.       0.       0.       0.       0.       0.       0.       0.       0.       0.       0.       0.       0.       0.       0.       0.       0.       0.       0.       0.       0.       0.       0.       0.       0.       0.       0.       0.       0.       0.       0.       0.       0.       0.       0.       0.       0.       0.       0.       0.       0.       0.       0.       0.       0.       0.       0.       0.       0.       0.       0.\n",
      "    0.       0.       0.       0.       0.       0.       0.       0.       0.       0.       0.       0.       0.       0.       0.       0.       0.       0.       0.       0.       0.    5243.    2621.5   1310.75   655.375    0.       0.       0.       0.       0.       0.       0.       0.       0.       0.       0.       0.       0.       0.       0.       0.       0.       0.       0.       0.       0.       0.       0.       0.       0.       0.       0.       0.       0.       0.\n",
      "    0.       0.       0.       0.       0.       0.       0.       0.       0.       0.       0.       0.       0.       0.       0.       0.       0.       0.       0.       0.       0.       0.       0.       0.       0.       0.       0.       0.       0.       0.       0.       0.       0.       0.       0.       0.       0.       0.       0.       0.       0.       0.       0.       0.       0.       0.       0.       0.       0.       0.   ]\n",
      "Encoding x[19]=10486.0 now as 5243.0\n",
      "Bit 76 to encode x_d=5243.0\n",
      "beta 5243.0\n",
      "more_than = 1\n",
      "equal_to = True\n",
      "Beta = [   0.     0.     0.     0.     0.     0.     0.     0.     0.     0.     0.     0.     0.     0.     0.     0.     0.     0.     0.     0.     0.     0.     0.     0.     0.     0.     0.     0.     0.     0.     0.     0.     0.     0.     0.     0.     0.     0.     0.     0.     0.     0.     0.     0.     0.     0.     0.     0.     0.     0.     0.     0.     0.     0.     0.     0.     0.     0.     0.     0.     0.     0.     0.     0.     0.     0.     0.     0.     0.     0.     0.\n",
      "    0.  3780.  1890.   945.   472.5    0.     0.     0.     0.     0.     0.     0.     0.     0.     0.     0.     0.     0.     0.     0.     0.     0.     0.     0.     0.     0.     0.     0.     0.     0.     0.     0.     0.     0.     0.     0.     0.     0.     0.     0.     0.     0.     0.     0.     0.     0.     0.     0.     0.     0.     0.     0.     0.     0.     0.     0.     0.     0.     0.     0.     0.     0.     0.     0.     0.     0.     0.     0.     0.     0.     0.\n",
      "    0.     0.     0.     0.     0.     0.     0.     0.     0.     0.     0.     0.     0.     0.     0.     0.     0.     0. ]\n",
      "Encoding x[18]=7560.0 now as 3780.0\n",
      "Bit 72 to encode x_d=3780.0\n",
      "beta 3780.0\n",
      "more_than = 1\n",
      "equal_to = True\n",
      "Beta = [   0.       0.       0.       0.       0.       0.       0.       0.       0.       0.       0.       0.       0.       0.       0.       0.       0.       0.       0.       0.       0.       0.       0.       0.       0.       0.       0.       0.       0.       0.       0.       0.       0.       0.       0.       0.       0.       0.       0.       0.       0.       0.       0.       0.       0.       0.       0.       0.       0.       0.       0.       0.       0.       0.       0.\n",
      "    0.       0.       0.       0.       0.       0.       0.       0.       0.       0.       0.       0.       0.    2499.5   1249.75   624.875  312.438    0.       0.       0.       0.       0.       0.       0.       0.       0.       0.       0.       0.       0.       0.       0.       0.       0.       0.       0.       0.       0.       0.       0.       0.       0.       0.       0.       0.       0.       0.       0.       0.       0.       0.       0.       0.       0.       0.\n",
      "    0.       0.       0.       0.       0.       0.       0.       0.       0.       0.       0.       0.       0.       0.       0.       0.       0.       0.       0.       0.       0.       0.       0.       0.       0.       0.       0.       0.       0.       0.       0.       0.       0.       0.       0.       0.       0.       0.       0.       0.       0.       0.       0.       0.       0.       0.       0.       0.       0.       0.   ]\n",
      "Encoding x[17]=4999.0 now as 2499.5\n",
      "Bit 68 to encode x_d=2499.5\n",
      "beta 2499.5\n",
      "more_than = 1\n",
      "equal_to = True\n",
      "Beta = [   0.       0.       0.       0.       0.       0.       0.       0.       0.       0.       0.       0.       0.       0.       0.       0.       0.       0.       0.       0.       0.       0.       0.       0.       0.       0.       0.       0.       0.       0.       0.       0.       0.       0.       0.       0.       0.       0.       0.       0.       0.       0.       0.       0.       0.       0.       0.       0.       0.       0.       0.       0.       0.       0.       0.\n",
      "    0.       0.       0.       0.       0.       0.       0.       0.       0.    1717.5    858.75   429.375  214.688    0.       0.       0.       0.       0.       0.       0.       0.       0.       0.       0.       0.       0.       0.       0.       0.       0.       0.       0.       0.       0.       0.       0.       0.       0.       0.       0.       0.       0.       0.       0.       0.       0.       0.       0.       0.       0.       0.       0.       0.       0.       0.\n",
      "    0.       0.       0.       0.       0.       0.       0.       0.       0.       0.       0.       0.       0.       0.       0.       0.       0.       0.       0.       0.       0.       0.       0.       0.       0.       0.       0.       0.       0.       0.       0.       0.       0.       0.       0.       0.       0.       0.       0.       0.       0.       0.       0.       0.       0.       0.       0.       0.       0.       0.   ]\n",
      "Encoding x[16]=3435.0 now as 1717.5\n",
      "Bit 64 to encode x_d=1717.5\n",
      "beta 1717.5\n",
      "more_than = 1\n",
      "equal_to = True\n",
      "Beta = [   0.      0.      0.      0.      0.      0.      0.      0.      0.      0.      0.      0.      0.      0.      0.      0.      0.      0.      0.      0.      0.      0.      0.      0.      0.      0.      0.      0.      0.      0.      0.      0.      0.      0.      0.      0.      0.      0.      0.      0.      0.      0.      0.      0.      0.      0.      0.      0.      0.      0.      0.      0.      0.      0.      0.      0.      0.      0.      0.      0.   1302.    651.\n",
      "  325.5   162.75    0.      0.      0.      0.      0.      0.      0.      0.      0.      0.      0.      0.      0.      0.      0.      0.      0.      0.      0.      0.      0.      0.      0.      0.      0.      0.      0.      0.      0.      0.      0.      0.      0.      0.      0.      0.      0.      0.      0.      0.      0.      0.      0.      0.      0.      0.      0.      0.      0.      0.      0.      0.      0.      0.      0.      0.      0.      0.      0.      0.\n",
      "    0.      0.      0.      0.      0.      0.      0.      0.      0.      0.      0.      0.      0.      0.      0.      0.      0.      0.      0.      0.      0.      0.      0.      0.      0.      0.      0.      0.      0.      0.      0.      0.      0.      0.      0.      0.  ]\n",
      "Encoding x[15]=2604.0 now as 1302.0\n",
      "Bit 60 to encode x_d=1302.0\n",
      "beta 1302.0\n",
      "more_than = 1\n",
      "equal_to = True\n",
      "Beta = [  0.      0.      0.      0.      0.      0.      0.      0.      0.      0.      0.      0.      0.      0.      0.      0.      0.      0.      0.      0.      0.      0.      0.      0.      0.      0.      0.      0.      0.      0.      0.      0.      0.      0.      0.      0.      0.      0.      0.      0.      0.      0.      0.      0.      0.      0.      0.      0.      0.      0.      0.      0.      0.      0.      0.      0.    933.    466.5   233.25  116.625   0.      0.\n",
      "   0.      0.      0.      0.      0.      0.      0.      0.      0.      0.      0.      0.      0.      0.      0.      0.      0.      0.      0.      0.      0.      0.      0.      0.      0.      0.      0.      0.      0.      0.      0.      0.      0.      0.      0.      0.      0.      0.      0.      0.      0.      0.      0.      0.      0.      0.      0.      0.      0.      0.      0.      0.      0.      0.      0.      0.      0.      0.      0.      0.      0.      0.\n",
      "   0.      0.      0.      0.      0.      0.      0.      0.      0.      0.      0.      0.      0.      0.      0.      0.      0.      0.      0.      0.      0.      0.      0.      0.      0.      0.      0.      0.      0.      0.      0.      0.      0.      0.      0.      0.   ]\n",
      "Encoding x[14]=1866.0 now as 933.0\n",
      "Bit 56 to encode x_d=933.0\n",
      "beta 933.0\n",
      "more_than = 1\n",
      "equal_to = True\n",
      "Beta = [  0.      0.      0.      0.      0.      0.      0.      0.      0.      0.      0.      0.      0.      0.      0.      0.      0.      0.      0.      0.      0.      0.      0.      0.      0.      0.      0.      0.      0.      0.      0.      0.      0.      0.      0.      0.      0.      0.      0.      0.      0.      0.      0.      0.      0.      0.      0.      0.      0.      0.      0.      0.    686.5   343.25  171.625  85.812   0.      0.      0.      0.      0.      0.\n",
      "   0.      0.      0.      0.      0.      0.      0.      0.      0.      0.      0.      0.      0.      0.      0.      0.      0.      0.      0.      0.      0.      0.      0.      0.      0.      0.      0.      0.      0.      0.      0.      0.      0.      0.      0.      0.      0.      0.      0.      0.      0.      0.      0.      0.      0.      0.      0.      0.      0.      0.      0.      0.      0.      0.      0.      0.      0.      0.      0.      0.      0.      0.\n",
      "   0.      0.      0.      0.      0.      0.      0.      0.      0.      0.      0.      0.      0.      0.      0.      0.      0.      0.      0.      0.      0.      0.      0.      0.      0.      0.      0.      0.      0.      0.      0.      0.      0.      0.      0.      0.   ]\n",
      "Encoding x[13]=1373.0 now as 686.5\n",
      "Bit 52 to encode x_d=686.5\n",
      "beta 686.5\n",
      "more_than = 1\n",
      "equal_to = True\n",
      "Beta = [  0.      0.      0.      0.      0.      0.      0.      0.      0.      0.      0.      0.      0.      0.      0.      0.      0.      0.      0.      0.      0.      0.      0.      0.      0.      0.      0.      0.      0.      0.      0.      0.      0.      0.      0.      0.      0.      0.      0.      0.      0.      0.      0.      0.      0.      0.      0.      0.    521.    260.5   130.25   65.125   0.      0.      0.      0.      0.      0.      0.      0.      0.      0.\n",
      "   0.      0.      0.      0.      0.      0.      0.      0.      0.      0.      0.      0.      0.      0.      0.      0.      0.      0.      0.      0.      0.      0.      0.      0.      0.      0.      0.      0.      0.      0.      0.      0.      0.      0.      0.      0.      0.      0.      0.      0.      0.      0.      0.      0.      0.      0.      0.      0.      0.      0.      0.      0.      0.      0.      0.      0.      0.      0.      0.      0.      0.      0.\n",
      "   0.      0.      0.      0.      0.      0.      0.      0.      0.      0.      0.      0.      0.      0.      0.      0.      0.      0.      0.      0.      0.      0.      0.      0.      0.      0.      0.      0.      0.      0.      0.      0.      0.      0.      0.      0.   ]\n",
      "Encoding x[12]=1042.0 now as 521.0\n",
      "Bit 48 to encode x_d=521.0\n",
      "beta 521.0\n",
      "more_than = 1\n",
      "equal_to = True\n",
      "Beta = [  0.      0.      0.      0.      0.      0.      0.      0.      0.      0.      0.      0.      0.      0.      0.      0.      0.      0.      0.      0.      0.      0.      0.      0.      0.      0.      0.      0.      0.      0.      0.      0.      0.      0.      0.      0.      0.      0.      0.      0.      0.      0.      0.      0.    439.    219.5   109.75   54.875   0.      0.      0.      0.      0.      0.      0.      0.      0.      0.      0.      0.      0.      0.\n",
      "   0.      0.      0.      0.      0.      0.      0.      0.      0.      0.      0.      0.      0.      0.      0.      0.      0.      0.      0.      0.      0.      0.      0.      0.      0.      0.      0.      0.      0.      0.      0.      0.      0.      0.      0.      0.      0.      0.      0.      0.      0.      0.      0.      0.      0.      0.      0.      0.      0.      0.      0.      0.      0.      0.      0.      0.      0.      0.      0.      0.      0.      0.\n",
      "   0.      0.      0.      0.      0.      0.      0.      0.      0.      0.      0.      0.      0.      0.      0.      0.      0.      0.      0.      0.      0.      0.      0.      0.      0.      0.      0.      0.      0.      0.      0.      0.      0.      0.      0.      0.   ]\n",
      "Encoding x[11]=878.0 now as 439.0\n",
      "Bit 44 to encode x_d=439.0\n",
      "beta 439.0\n",
      "more_than = 1\n",
      "equal_to = True\n",
      "Beta = [  0.    0.    0.    0.    0.    0.    0.    0.    0.    0.    0.    0.    0.    0.    0.    0.    0.    0.    0.    0.    0.    0.    0.    0.    0.    0.    0.    0.    0.    0.    0.    0.    0.    0.    0.    0.    0.    0.    0.    0.  380.  190.   95.   47.5   0.    0.    0.    0.    0.    0.    0.    0.    0.    0.    0.    0.    0.    0.    0.    0.    0.    0.    0.    0.    0.    0.    0.    0.    0.    0.    0.    0.    0.    0.    0.    0.    0.    0.    0.    0.    0.    0.    0.\n",
      "   0.    0.    0.    0.    0.    0.    0.    0.    0.    0.    0.    0.    0.    0.    0.    0.    0.    0.    0.    0.    0.    0.    0.    0.    0.    0.    0.    0.    0.    0.    0.    0.    0.    0.    0.    0.    0.    0.    0.    0.    0.    0.    0.    0.    0.    0.    0.    0.    0.    0.    0.    0.    0.    0.    0.    0.    0.    0.    0.    0.    0.    0.    0.    0.    0.    0.    0.    0.    0.    0.    0.    0.    0.    0.    0.    0.    0. ]\n",
      "Encoding x[10]=760.0 now as 380.0\n",
      "Bit 40 to encode x_d=380.0\n",
      "beta 380.0\n",
      "more_than = 1\n",
      "equal_to = True\n",
      "Beta = [  0.      0.      0.      0.      0.      0.      0.      0.      0.      0.      0.      0.      0.      0.      0.      0.      0.      0.      0.      0.      0.      0.      0.      0.      0.      0.      0.      0.      0.      0.      0.      0.      0.      0.      0.      0.    303.    151.5    75.75   37.875   0.      0.      0.      0.      0.      0.      0.      0.      0.      0.      0.      0.      0.      0.      0.      0.      0.      0.      0.      0.      0.      0.\n",
      "   0.      0.      0.      0.      0.      0.      0.      0.      0.      0.      0.      0.      0.      0.      0.      0.      0.      0.      0.      0.      0.      0.      0.      0.      0.      0.      0.      0.      0.      0.      0.      0.      0.      0.      0.      0.      0.      0.      0.      0.      0.      0.      0.      0.      0.      0.      0.      0.      0.      0.      0.      0.      0.      0.      0.      0.      0.      0.      0.      0.      0.      0.\n",
      "   0.      0.      0.      0.      0.      0.      0.      0.      0.      0.      0.      0.      0.      0.      0.      0.      0.      0.      0.      0.      0.      0.      0.      0.      0.      0.      0.      0.      0.      0.      0.      0.      0.      0.      0.      0.   ]\n",
      "Encoding x[9]=606.0 now as 303.0\n",
      "Bit 36 to encode x_d=303.0\n",
      "beta 303.0\n",
      "more_than = 1\n",
      "equal_to = True\n",
      "Beta = [  0.      0.      0.      0.      0.      0.      0.      0.      0.      0.      0.      0.      0.      0.      0.      0.      0.      0.      0.      0.      0.      0.      0.      0.      0.      0.      0.      0.      0.      0.      0.      0.    252.5   126.25   63.125  31.562   0.      0.      0.      0.      0.      0.      0.      0.      0.      0.      0.      0.      0.      0.      0.      0.      0.      0.      0.      0.      0.      0.      0.      0.      0.      0.\n",
      "   0.      0.      0.      0.      0.      0.      0.      0.      0.      0.      0.      0.      0.      0.      0.      0.      0.      0.      0.      0.      0.      0.      0.      0.      0.      0.      0.      0.      0.      0.      0.      0.      0.      0.      0.      0.      0.      0.      0.      0.      0.      0.      0.      0.      0.      0.      0.      0.      0.      0.      0.      0.      0.      0.      0.      0.      0.      0.      0.      0.      0.      0.\n",
      "   0.      0.      0.      0.      0.      0.      0.      0.      0.      0.      0.      0.      0.      0.      0.      0.      0.      0.      0.      0.      0.      0.      0.      0.      0.      0.      0.      0.      0.      0.      0.      0.      0.      0.      0.      0.   ]\n",
      "Encoding x[8]=505.0 now as 252.5\n",
      "Bit 32 to encode x_d=252.5\n",
      "beta 252.5\n",
      "more_than = 1\n",
      "equal_to = True\n",
      "Beta = [  0.      0.      0.      0.      0.      0.      0.      0.      0.      0.      0.      0.      0.      0.      0.      0.      0.      0.      0.      0.      0.      0.      0.      0.      0.      0.      0.      0.    223.5   111.75   55.875  27.938   0.      0.      0.      0.      0.      0.      0.      0.      0.      0.      0.      0.      0.      0.      0.      0.      0.      0.      0.      0.      0.      0.      0.      0.      0.      0.      0.      0.      0.      0.\n",
      "   0.      0.      0.      0.      0.      0.      0.      0.      0.      0.      0.      0.      0.      0.      0.      0.      0.      0.      0.      0.      0.      0.      0.      0.      0.      0.      0.      0.      0.      0.      0.      0.      0.      0.      0.      0.      0.      0.      0.      0.      0.      0.      0.      0.      0.      0.      0.      0.      0.      0.      0.      0.      0.      0.      0.      0.      0.      0.      0.      0.      0.      0.\n",
      "   0.      0.      0.      0.      0.      0.      0.      0.      0.      0.      0.      0.      0.      0.      0.      0.      0.      0.      0.      0.      0.      0.      0.      0.      0.      0.      0.      0.      0.      0.      0.      0.      0.      0.      0.      0.   ]\n",
      "Encoding x[7]=447.0 now as 223.5\n",
      "Bit 28 to encode x_d=223.5\n",
      "beta 223.5\n",
      "more_than = 1\n",
      "equal_to = True\n",
      "Beta = [  0.      0.      0.      0.      0.      0.      0.      0.      0.      0.      0.      0.      0.      0.      0.      0.      0.      0.      0.      0.      0.      0.      0.      0.    195.     97.5    48.75   24.375   0.      0.      0.      0.      0.      0.      0.      0.      0.      0.      0.      0.      0.      0.      0.      0.      0.      0.      0.      0.      0.      0.      0.      0.      0.      0.      0.      0.      0.      0.      0.      0.      0.      0.\n",
      "   0.      0.      0.      0.      0.      0.      0.      0.      0.      0.      0.      0.      0.      0.      0.      0.      0.      0.      0.      0.      0.      0.      0.      0.      0.      0.      0.      0.      0.      0.      0.      0.      0.      0.      0.      0.      0.      0.      0.      0.      0.      0.      0.      0.      0.      0.      0.      0.      0.      0.      0.      0.      0.      0.      0.      0.      0.      0.      0.      0.      0.      0.\n",
      "   0.      0.      0.      0.      0.      0.      0.      0.      0.      0.      0.      0.      0.      0.      0.      0.      0.      0.      0.      0.      0.      0.      0.      0.      0.      0.      0.      0.      0.      0.      0.      0.      0.      0.      0.      0.   ]\n",
      "Encoding x[6]=390.0 now as 195.0\n",
      "Bit 24 to encode x_d=195.0\n",
      "beta 195.0\n",
      "more_than = 1\n",
      "equal_to = True\n",
      "Beta = [  0.      0.      0.      0.      0.      0.      0.      0.      0.      0.      0.      0.      0.      0.      0.      0.      0.      0.      0.      0.    167.     83.5    41.75   20.875   0.      0.      0.      0.      0.      0.      0.      0.      0.      0.      0.      0.      0.      0.      0.      0.      0.      0.      0.      0.      0.      0.      0.      0.      0.      0.      0.      0.      0.      0.      0.      0.      0.      0.      0.      0.      0.      0.\n",
      "   0.      0.      0.      0.      0.      0.      0.      0.      0.      0.      0.      0.      0.      0.      0.      0.      0.      0.      0.      0.      0.      0.      0.      0.      0.      0.      0.      0.      0.      0.      0.      0.      0.      0.      0.      0.      0.      0.      0.      0.      0.      0.      0.      0.      0.      0.      0.      0.      0.      0.      0.      0.      0.      0.      0.      0.      0.      0.      0.      0.      0.      0.\n",
      "   0.      0.      0.      0.      0.      0.      0.      0.      0.      0.      0.      0.      0.      0.      0.      0.      0.      0.      0.      0.      0.      0.      0.      0.      0.      0.      0.      0.      0.      0.      0.      0.      0.      0.      0.      0.   ]\n",
      "Encoding x[5]=334.0 now as 167.0\n",
      "Bit 20 to encode x_d=167.0\n",
      "beta 167.0\n",
      "more_than = 1\n",
      "equal_to = True\n",
      "Beta = [  0.      0.      0.      0.      0.      0.      0.      0.      0.      0.      0.      0.      0.      0.      0.      0.    151.     75.5    37.75   18.875   0.      0.      0.      0.      0.      0.      0.      0.      0.      0.      0.      0.      0.      0.      0.      0.      0.      0.      0.      0.      0.      0.      0.      0.      0.      0.      0.      0.      0.      0.      0.      0.      0.      0.      0.      0.      0.      0.      0.      0.      0.      0.\n",
      "   0.      0.      0.      0.      0.      0.      0.      0.      0.      0.      0.      0.      0.      0.      0.      0.      0.      0.      0.      0.      0.      0.      0.      0.      0.      0.      0.      0.      0.      0.      0.      0.      0.      0.      0.      0.      0.      0.      0.      0.      0.      0.      0.      0.      0.      0.      0.      0.      0.      0.      0.      0.      0.      0.      0.      0.      0.      0.      0.      0.      0.      0.\n",
      "   0.      0.      0.      0.      0.      0.      0.      0.      0.      0.      0.      0.      0.      0.      0.      0.      0.      0.      0.      0.      0.      0.      0.      0.      0.      0.      0.      0.      0.      0.      0.      0.      0.      0.      0.      0.   ]\n",
      "Encoding x[4]=302.0 now as 151.0\n",
      "Bit 16 to encode x_d=151.0\n",
      "beta 151.0\n",
      "more_than = 1\n",
      "equal_to = True\n",
      "Beta = [  0.      0.      0.      0.      0.      0.      0.      0.      0.      0.      0.      0.    117.5    58.75   29.375  14.688   0.      0.      0.      0.      0.      0.      0.      0.      0.      0.      0.      0.      0.      0.      0.      0.      0.      0.      0.      0.      0.      0.      0.      0.      0.      0.      0.      0.      0.      0.      0.      0.      0.      0.      0.      0.      0.      0.      0.      0.      0.      0.      0.      0.      0.      0.\n",
      "   0.      0.      0.      0.      0.      0.      0.      0.      0.      0.      0.      0.      0.      0.      0.      0.      0.      0.      0.      0.      0.      0.      0.      0.      0.      0.      0.      0.      0.      0.      0.      0.      0.      0.      0.      0.      0.      0.      0.      0.      0.      0.      0.      0.      0.      0.      0.      0.      0.      0.      0.      0.      0.      0.      0.      0.      0.      0.      0.      0.      0.      0.\n",
      "   0.      0.      0.      0.      0.      0.      0.      0.      0.      0.      0.      0.      0.      0.      0.      0.      0.      0.      0.      0.      0.      0.      0.      0.      0.      0.      0.      0.      0.      0.      0.      0.      0.      0.      0.      0.   ]\n",
      "Encoding x[3]=235.0 now as 117.5\n",
      "Bit 12 to encode x_d=117.5\n",
      "beta 117.5\n",
      "more_than = 1\n",
      "equal_to = True\n",
      "Beta = [  0.      0.      0.      0.      0.      0.      0.      0.    117.     58.5    29.25   14.625   0.      0.      0.      0.      0.      0.      0.      0.      0.      0.      0.      0.      0.      0.      0.      0.      0.      0.      0.      0.      0.      0.      0.      0.      0.      0.      0.      0.      0.      0.      0.      0.      0.      0.      0.      0.      0.      0.      0.      0.      0.      0.      0.      0.      0.      0.      0.      0.      0.      0.\n",
      "   0.      0.      0.      0.      0.      0.      0.      0.      0.      0.      0.      0.      0.      0.      0.      0.      0.      0.      0.      0.      0.      0.      0.      0.      0.      0.      0.      0.      0.      0.      0.      0.      0.      0.      0.      0.      0.      0.      0.      0.      0.      0.      0.      0.      0.      0.      0.      0.      0.      0.      0.      0.      0.      0.      0.      0.      0.      0.      0.      0.      0.      0.\n",
      "   0.      0.      0.      0.      0.      0.      0.      0.      0.      0.      0.      0.      0.      0.      0.      0.      0.      0.      0.      0.      0.      0.      0.      0.      0.      0.      0.      0.      0.      0.      0.      0.      0.      0.      0.      0.   ]\n",
      "Encoding x[2]=234.0 now as 117.0\n",
      "Bit 8 to encode x_d=117.0\n",
      "beta 117.0\n",
      "more_than = 1\n",
      "equal_to = True\n",
      "Beta = [  0.      0.      0.      0.    110.5    55.25   27.625  13.812   0.      0.      0.      0.      0.      0.      0.      0.      0.      0.      0.      0.      0.      0.      0.      0.      0.      0.      0.      0.      0.      0.      0.      0.      0.      0.      0.      0.      0.      0.      0.      0.      0.      0.      0.      0.      0.      0.      0.      0.      0.      0.      0.      0.      0.      0.      0.      0.      0.      0.      0.      0.      0.      0.\n",
      "   0.      0.      0.      0.      0.      0.      0.      0.      0.      0.      0.      0.      0.      0.      0.      0.      0.      0.      0.      0.      0.      0.      0.      0.      0.      0.      0.      0.      0.      0.      0.      0.      0.      0.      0.      0.      0.      0.      0.      0.      0.      0.      0.      0.      0.      0.      0.      0.      0.      0.      0.      0.      0.      0.      0.      0.      0.      0.      0.      0.      0.      0.\n",
      "   0.      0.      0.      0.      0.      0.      0.      0.      0.      0.      0.      0.      0.      0.      0.      0.      0.      0.      0.      0.      0.      0.      0.      0.      0.      0.      0.      0.      0.      0.      0.      0.      0.      0.      0.      0.   ]\n",
      "Encoding x[1]=221.0 now as 110.5\n",
      "Bit 4 to encode x_d=110.5\n",
      "beta 110.5\n",
      "more_than = 1\n",
      "equal_to = True\n",
      "Beta = [84.  42.  21.  10.5  0.   0.   0.   0.   0.   0.   0.   0.   0.   0.   0.   0.   0.   0.   0.   0.   0.   0.   0.   0.   0.   0.   0.   0.   0.   0.   0.   0.   0.   0.   0.   0.   0.   0.   0.   0.   0.   0.   0.   0.   0.   0.   0.   0.   0.   0.   0.   0.   0.   0.   0.   0.   0.   0.   0.   0.   0.   0.   0.   0.   0.   0.   0.   0.   0.   0.   0.   0.   0.   0.   0.   0.   0.   0.   0.   0.   0.   0.   0.   0.   0.   0.   0.   0.   0.   0.   0.   0.   0.   0.   0.   0.   0.   0.   0.\n",
      "  0.   0.   0.   0.   0.   0.   0.   0.   0.   0.   0.   0.   0.   0.   0.   0.   0.   0.   0.   0.   0.   0.   0.   0.   0.   0.   0.   0.   0.   0.   0.   0.   0.   0.   0.   0.   0.   0.   0.   0.   0.   0.   0.   0.   0.   0.   0.   0.   0.   0.   0.   0.   0.   0.   0.   0.   0.   0.   0.   0.   0. ]\n",
      "Encoding x[0]=168.0 now as 84.0\n",
      "Bit 0 to encode x_d=84.0\n",
      "beta 84.0\n",
      "more_than = 1\n",
      "equal_to = True\n",
      "INFO: alpha = [  84.   110.5  117.   117.5  151.   167.   195.   223.5  252.5  303.   380.   439.   521.   686.5  933.  1302.  1717.5 2499.5 3780.  5243.  6348.  5603.5 4072.  2761.  1910.5 1298.5  985.5  737.   602.   438.   372.   326.5  270.   215.   209.5  164.   167.   127.5  109.   103. ]\n",
      "INFO: beta =\n",
      "[[84.    42.    21.    ...  0.     0.     0.   ]\n",
      " [ 0.     0.     0.    ...  0.     0.     0.   ]\n",
      " [ 0.     0.     0.    ...  0.     0.     0.   ]\n",
      " ...\n",
      " [ 0.     0.     0.    ...  0.     0.     0.   ]\n",
      " [ 0.     0.     0.    ...  0.     0.     0.   ]\n",
      " [ 0.     0.     0.    ... 51.5   25.75  12.875]]\n",
      "INFO: Laplacian operator:\n",
      "[[ 2. -1.  0. ...  0.  0.  0.]\n",
      " [-1.  2. -1. ...  0.  0.  0.]\n",
      " [ 0. -1.  2. ...  0.  0.  0.]\n",
      " ...\n",
      " [ 0.  0.  0. ...  2. -1.  0.]\n",
      " [ 0.  0.  0. ... -1.  2. -1.]\n",
      " [ 0.  0.  0. ...  0. -1.  2.]]\n",
      "INFO: regularization strength: 0\n",
      "DEBUG: W_ij =\n",
      "[[    0.     0.     0. ...     0.     0.     0.]\n",
      " [    0.     0.     0. ...     0.     0.     0.]\n",
      " [    0.     0.     0. ...     0.     0.     0.]\n",
      " ...\n",
      " [    0.     0.     0. ... 29574. 10506.  1020.]\n",
      " [    0.     0.     0. ... 10506. 23373.  8556.]\n",
      " [    0.     0.     0. ...  1020.  8556. 21241.]]\n",
      "DEBUG: quadratic coeff Qq =\n",
      "[[       0.           0.           0.    ...        0.           0.           0.   ]\n",
      " [       0.           0.           0.    ...        0.           0.           0.   ]\n",
      " [       0.           0.           0.    ...        0.           0.           0.   ]\n",
      " ...\n",
      " [       0.           0.           0.    ...        0.    56336442.25  28168221.125]\n",
      " [       0.           0.           0.    ...        0.           0.    14084110.562]\n",
      " [       0.           0.           0.    ...        0.           0.           0.   ]]\n",
      "DEBUG: linear coeff Ql =\n",
      "[[0.000e+00 0.000e+00 0.000e+00 ... 0.000e+00 0.000e+00 0.000e+00]\n",
      " [0.000e+00 0.000e+00 0.000e+00 ... 0.000e+00 0.000e+00 0.000e+00]\n",
      " [0.000e+00 0.000e+00 0.000e+00 ... 0.000e+00 0.000e+00 0.000e+00]\n",
      " ...\n",
      " [0.000e+00 0.000e+00 0.000e+00 ... 3.911e+08 0.000e+00 0.000e+00]\n",
      " [0.000e+00 0.000e+00 0.000e+00 ... 0.000e+00 1.815e+08 0.000e+00]\n",
      " [0.000e+00 0.000e+00 0.000e+00 ... 0.000e+00 0.000e+00 8.722e+07]]\n",
      "DEBUG: matrix of QUBO coefficents Q_ab =:\n",
      "[[0.000e+00 0.000e+00 0.000e+00 ... 0.000e+00 0.000e+00 0.000e+00]\n",
      " [0.000e+00 0.000e+00 0.000e+00 ... 0.000e+00 0.000e+00 0.000e+00]\n",
      " [0.000e+00 0.000e+00 0.000e+00 ... 0.000e+00 0.000e+00 0.000e+00]\n",
      " ...\n",
      " [0.000e+00 0.000e+00 0.000e+00 ... 3.911e+08 5.634e+07 2.817e+07]\n",
      " [0.000e+00 0.000e+00 0.000e+00 ... 0.000e+00 1.815e+08 1.408e+07]\n",
      " [0.000e+00 0.000e+00 0.000e+00 ... 0.000e+00 0.000e+00 8.722e+07]]\n",
      "INFO: size of the QUBO coeff matrix is (160, 160)\n"
     ]
    }
   ],
   "source": [
    "# annealing unfolder\n",
    "from unfolders.annealing import QUBOUnfolder, backends\n",
    "\n",
    "# unfold with simulated annealing\n",
    "unfolder_annealing = QUBOUnfolder(\n",
    "    xinipy, Adetpy, datapy, n_bits=4, weight_regularization=0\n",
    ")\n",
    "annealer = backends.SimulatedAnnealingBackend(5000)\n",
    "x_unfolded = unfolder_annealing.solve(annealer)"
   ]
  },
  {
   "cell_type": "markdown",
   "id": "likely-patrol",
   "metadata": {},
   "source": [
    "# Plotting results"
   ]
  },
  {
   "cell_type": "code",
   "execution_count": 11,
   "id": "sunset-bottle",
   "metadata": {},
   "outputs": [
    {
     "data": {
      "text/plain": [
       "<matplotlib.legend.Legend at 0x7f0201229a90>"
      ]
     },
     "execution_count": 11,
     "metadata": {},
     "output_type": "execute_result"
    },
    {
     "data": {
      "image/png": "[encoded data removed]",
      "text/plain": [
       "<Figure size 1080x504 with 1 Axes>"
      ]
     },
     "metadata": {
      "needs_background": "light"
     },
     "output_type": "display_data"
    }
   ],
   "source": [
    "# re-scale xini\n",
    "# xini.Scale(0.7 * datatrue.Integral() / xini.Integral())\n",
    "# xinipy, xinipy_edges = root_numpy.hist2array(xini, return_edges=True)\n",
    "\n",
    "axis = xinipy_edges[0][:-1]\n",
    "plt.figure(figsize=(15, 7))\n",
    "\n",
    "# plot what is to be reconstructed\n",
    "plt.step(axis, xinipy, fillstyle=\"bottom\", label=\"True MC ($x_{ini}$)\")\n",
    "plt.fill_between(axis, xinipy, step=\"pre\", alpha=0.4)\n",
    "# plot what was measured\n",
    "plt.step(axis, datapy, fillstyle=\"bottom\", label=\"data\", color=\"black\")\n",
    "# plot the true data that generated the measurement\n",
    "plt.step(axis, datatruepy, fillstyle=\"bottom\", label=\"True Data (datatrue)\", color=\"red\")\n",
    "# plot unfolded\n",
    "plt.step(axis, x_unfolded, fillstyle=\"bottom\", label=\"Unfolded Data\")\n",
    "plt.fill_between(axis, x_unfolded, step=\"pre\", alpha=0.4)\n",
    "\n",
    "plt.xlabel(\"x\")\n",
    "plt.ylabel(\"entries\")\n",
    "plt.legend(prop={'size': 15})"
   ]
  },
  {
   "cell_type": "code",
   "execution_count": null,
   "id": "agreed-annex",
   "metadata": {},
   "outputs": [],
   "source": []
  }
 ],
 "metadata": {
  "kernelspec": {
   "display_name": "Python 3",
   "language": "python",
   "name": "python3"
  },
  "language_info": {
   "codemirror_mode": {
    "name": "ipython",
    "version": 3
   },
   "file_extension": ".py",
   "mimetype": "text/x-python",
   "name": "python",
   "nbconvert_exporter": "python",
   "pygments_lexer": "ipython3",
   "version": "3.8.5"
  }
 },
 "nbformat": 4,
 "nbformat_minor": 5
}
